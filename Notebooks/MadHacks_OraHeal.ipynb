{
  "cells": [
    {
      "cell_type": "code",
      "source": [
        "import matplotlib.pyplot as plt\n",
        "import seaborn as sns\n",
        "import pandas as pd\n",
        "import numpy as np\n",
        "import warnings\n",
        "import pickle\n",
        "import string\n",
        "import spacy\n",
        "import nltk \n",
        "import re\n",
        "\n",
        "\n",
        "from sklearn.ensemble import *\n",
        "from nltk.stem import WordNetLemmatizer \n",
        "from spacy.lang.en.stop_words import STOP_WORDS\n",
        "from sklearn.metrics import accuracy_score, classification_report, confusion_matrix, auc, roc_curve\n",
        "from sklearn.feature_extraction.text import TfidfVectorizer\n",
        "from sklearn.model_selection import train_test_split\n",
        "\n",
        "\n",
        "sns.set(style='whitegrid')\n",
        "\n",
        "warnings.filterwarnings('ignore')"
      ],
      "metadata": {
        "id": "O1YHO7kig0w2"
      },
      "execution_count": null,
      "outputs": []
    },
    {
      "cell_type": "code",
      "source": [
        "from google.colab import drive\n",
        "drive.mount('/content/drive')"
      ],
      "metadata": {
        "id": "4Z6hyZn6V164",
        "colab": {
          "base_uri": "https://localhost:8080/"
        },
        "outputId": "744076b4-3c95-45e9-e6d6-48543ac63488"
      },
      "execution_count": null,
      "outputs": [
        {
          "output_type": "stream",
          "name": "stdout",
          "text": [
            "Mounted at /content/drive\n"
          ]
        }
      ]
    },
    {
      "cell_type": "code",
      "source": [
        "df = pd.read_csv('/content/drive/MyDrive/Colab Notebooks/overview-of-recordings.csv', encoding=\"latin-1\")\n"
      ],
      "metadata": {
        "id": "3UMzyQbqWQKg"
      },
      "execution_count": null,
      "outputs": []
    },
    {
      "cell_type": "code",
      "source": [
        "df.head()"
      ],
      "metadata": {
        "id": "F2UUsCi4oVpJ",
        "outputId": "bd7ac0d8-8a86-488f-9385-e0b6a14d75bb",
        "colab": {
          "base_uri": "https://localhost:8080/",
          "height": 652
        }
      },
      "execution_count": null,
      "outputs": [
        {
          "output_type": "execute_result",
          "data": {
            "text/plain": [
              "   audio_clipping  audio_clipping:confidence background_noise_audible  \\\n",
              "0     no_clipping                     1.0000              light_noise   \n",
              "1  light_clipping                     0.6803                 no_noise   \n",
              "2     no_clipping                     1.0000                 no_noise   \n",
              "3     no_clipping                     1.0000              light_noise   \n",
              "4     no_clipping                     1.0000                 no_noise   \n",
              "\n",
              "   background_noise_audible:confidence  overall_quality_of_the_audio  \\\n",
              "0                               1.0000                          3.33   \n",
              "1                               0.6803                          3.33   \n",
              "2                               0.6655                          3.33   \n",
              "3                               1.0000                          3.33   \n",
              "4                               1.0000                          4.67   \n",
              "\n",
              "     quiet_speaker  quiet_speaker:confidence  speaker_id  \\\n",
              "0  audible_speaker                       1.0    43453425   \n",
              "1  audible_speaker                       1.0    43719934   \n",
              "2  audible_speaker                       1.0    43719934   \n",
              "3  audible_speaker                       1.0    31349958   \n",
              "4  audible_speaker                       1.0    43719934   \n",
              "\n",
              "                                       file_download  \\\n",
              "0  https://ml.sandbox.cf3.us/cgi-bin/index.cgi?do...   \n",
              "1  https://ml.sandbox.cf3.us/cgi-bin/index.cgi?do...   \n",
              "2  https://ml.sandbox.cf3.us/cgi-bin/index.cgi?do...   \n",
              "3  https://ml.sandbox.cf3.us/cgi-bin/index.cgi?do...   \n",
              "4  https://ml.sandbox.cf3.us/cgi-bin/index.cgi?do...   \n",
              "\n",
              "                       file_name  \\\n",
              "0  1249120_43453425_58166571.wav   \n",
              "1  1249120_43719934_43347848.wav   \n",
              "2  1249120_43719934_53187202.wav   \n",
              "3  1249120_31349958_55816195.wav   \n",
              "4  1249120_43719934_82524191.wav   \n",
              "\n",
              "                                              phrase            prompt  \\\n",
              "0                    When I remember her I feel down    Emotional pain   \n",
              "1  When I carry heavy things I feel like breaking...  Hair falling out   \n",
              "2          there is too much pain when i move my arm       Heart hurts   \n",
              "3  My son had his lip pierced and it is swollen a...    Infected wound   \n",
              "4             My muscles in my lower back are aching    Infected wound   \n",
              "\n",
              "   writer_id  \n",
              "0   21665495  \n",
              "1   44088126  \n",
              "2   44292353  \n",
              "3   43755034  \n",
              "4   21665495  "
            ],
            "text/html": [
              "\n",
              "  <div id=\"df-a125847b-e5f7-43de-bae2-55fca61bf1c4\">\n",
              "    <div class=\"colab-df-container\">\n",
              "      <div>\n",
              "<style scoped>\n",
              "    .dataframe tbody tr th:only-of-type {\n",
              "        vertical-align: middle;\n",
              "    }\n",
              "\n",
              "    .dataframe tbody tr th {\n",
              "        vertical-align: top;\n",
              "    }\n",
              "\n",
              "    .dataframe thead th {\n",
              "        text-align: right;\n",
              "    }\n",
              "</style>\n",
              "<table border=\"1\" class=\"dataframe\">\n",
              "  <thead>\n",
              "    <tr style=\"text-align: right;\">\n",
              "      <th></th>\n",
              "      <th>audio_clipping</th>\n",
              "      <th>audio_clipping:confidence</th>\n",
              "      <th>background_noise_audible</th>\n",
              "      <th>background_noise_audible:confidence</th>\n",
              "      <th>overall_quality_of_the_audio</th>\n",
              "      <th>quiet_speaker</th>\n",
              "      <th>quiet_speaker:confidence</th>\n",
              "      <th>speaker_id</th>\n",
              "      <th>file_download</th>\n",
              "      <th>file_name</th>\n",
              "      <th>phrase</th>\n",
              "      <th>prompt</th>\n",
              "      <th>writer_id</th>\n",
              "    </tr>\n",
              "  </thead>\n",
              "  <tbody>\n",
              "    <tr>\n",
              "      <th>0</th>\n",
              "      <td>no_clipping</td>\n",
              "      <td>1.0000</td>\n",
              "      <td>light_noise</td>\n",
              "      <td>1.0000</td>\n",
              "      <td>3.33</td>\n",
              "      <td>audible_speaker</td>\n",
              "      <td>1.0</td>\n",
              "      <td>43453425</td>\n",
              "      <td>https://ml.sandbox.cf3.us/cgi-bin/index.cgi?do...</td>\n",
              "      <td>1249120_43453425_58166571.wav</td>\n",
              "      <td>When I remember her I feel down</td>\n",
              "      <td>Emotional pain</td>\n",
              "      <td>21665495</td>\n",
              "    </tr>\n",
              "    <tr>\n",
              "      <th>1</th>\n",
              "      <td>light_clipping</td>\n",
              "      <td>0.6803</td>\n",
              "      <td>no_noise</td>\n",
              "      <td>0.6803</td>\n",
              "      <td>3.33</td>\n",
              "      <td>audible_speaker</td>\n",
              "      <td>1.0</td>\n",
              "      <td>43719934</td>\n",
              "      <td>https://ml.sandbox.cf3.us/cgi-bin/index.cgi?do...</td>\n",
              "      <td>1249120_43719934_43347848.wav</td>\n",
              "      <td>When I carry heavy things I feel like breaking...</td>\n",
              "      <td>Hair falling out</td>\n",
              "      <td>44088126</td>\n",
              "    </tr>\n",
              "    <tr>\n",
              "      <th>2</th>\n",
              "      <td>no_clipping</td>\n",
              "      <td>1.0000</td>\n",
              "      <td>no_noise</td>\n",
              "      <td>0.6655</td>\n",
              "      <td>3.33</td>\n",
              "      <td>audible_speaker</td>\n",
              "      <td>1.0</td>\n",
              "      <td>43719934</td>\n",
              "      <td>https://ml.sandbox.cf3.us/cgi-bin/index.cgi?do...</td>\n",
              "      <td>1249120_43719934_53187202.wav</td>\n",
              "      <td>there is too much pain when i move my arm</td>\n",
              "      <td>Heart hurts</td>\n",
              "      <td>44292353</td>\n",
              "    </tr>\n",
              "    <tr>\n",
              "      <th>3</th>\n",
              "      <td>no_clipping</td>\n",
              "      <td>1.0000</td>\n",
              "      <td>light_noise</td>\n",
              "      <td>1.0000</td>\n",
              "      <td>3.33</td>\n",
              "      <td>audible_speaker</td>\n",
              "      <td>1.0</td>\n",
              "      <td>31349958</td>\n",
              "      <td>https://ml.sandbox.cf3.us/cgi-bin/index.cgi?do...</td>\n",
              "      <td>1249120_31349958_55816195.wav</td>\n",
              "      <td>My son had his lip pierced and it is swollen a...</td>\n",
              "      <td>Infected wound</td>\n",
              "      <td>43755034</td>\n",
              "    </tr>\n",
              "    <tr>\n",
              "      <th>4</th>\n",
              "      <td>no_clipping</td>\n",
              "      <td>1.0000</td>\n",
              "      <td>no_noise</td>\n",
              "      <td>1.0000</td>\n",
              "      <td>4.67</td>\n",
              "      <td>audible_speaker</td>\n",
              "      <td>1.0</td>\n",
              "      <td>43719934</td>\n",
              "      <td>https://ml.sandbox.cf3.us/cgi-bin/index.cgi?do...</td>\n",
              "      <td>1249120_43719934_82524191.wav</td>\n",
              "      <td>My muscles in my lower back are aching</td>\n",
              "      <td>Infected wound</td>\n",
              "      <td>21665495</td>\n",
              "    </tr>\n",
              "  </tbody>\n",
              "</table>\n",
              "</div>\n",
              "      <button class=\"colab-df-convert\" onclick=\"convertToInteractive('df-a125847b-e5f7-43de-bae2-55fca61bf1c4')\"\n",
              "              title=\"Convert this dataframe to an interactive table.\"\n",
              "              style=\"display:none;\">\n",
              "        \n",
              "  <svg xmlns=\"http://www.w3.org/2000/svg\" height=\"24px\"viewBox=\"0 0 24 24\"\n",
              "       width=\"24px\">\n",
              "    <path d=\"M0 0h24v24H0V0z\" fill=\"none\"/>\n",
              "    <path d=\"M18.56 5.44l.94 2.06.94-2.06 2.06-.94-2.06-.94-.94-2.06-.94 2.06-2.06.94zm-11 1L8.5 8.5l.94-2.06 2.06-.94-2.06-.94L8.5 2.5l-.94 2.06-2.06.94zm10 10l.94 2.06.94-2.06 2.06-.94-2.06-.94-.94-2.06-.94 2.06-2.06.94z\"/><path d=\"M17.41 7.96l-1.37-1.37c-.4-.4-.92-.59-1.43-.59-.52 0-1.04.2-1.43.59L10.3 9.45l-7.72 7.72c-.78.78-.78 2.05 0 2.83L4 21.41c.39.39.9.59 1.41.59.51 0 1.02-.2 1.41-.59l7.78-7.78 2.81-2.81c.8-.78.8-2.07 0-2.86zM5.41 20L4 18.59l7.72-7.72 1.47 1.35L5.41 20z\"/>\n",
              "  </svg>\n",
              "      </button>\n",
              "      \n",
              "  <style>\n",
              "    .colab-df-container {\n",
              "      display:flex;\n",
              "      flex-wrap:wrap;\n",
              "      gap: 12px;\n",
              "    }\n",
              "\n",
              "    .colab-df-convert {\n",
              "      background-color: #E8F0FE;\n",
              "      border: none;\n",
              "      border-radius: 50%;\n",
              "      cursor: pointer;\n",
              "      display: none;\n",
              "      fill: #1967D2;\n",
              "      height: 32px;\n",
              "      padding: 0 0 0 0;\n",
              "      width: 32px;\n",
              "    }\n",
              "\n",
              "    .colab-df-convert:hover {\n",
              "      background-color: #E2EBFA;\n",
              "      box-shadow: 0px 1px 2px rgba(60, 64, 67, 0.3), 0px 1px 3px 1px rgba(60, 64, 67, 0.15);\n",
              "      fill: #174EA6;\n",
              "    }\n",
              "\n",
              "    [theme=dark] .colab-df-convert {\n",
              "      background-color: #3B4455;\n",
              "      fill: #D2E3FC;\n",
              "    }\n",
              "\n",
              "    [theme=dark] .colab-df-convert:hover {\n",
              "      background-color: #434B5C;\n",
              "      box-shadow: 0px 1px 3px 1px rgba(0, 0, 0, 0.15);\n",
              "      filter: drop-shadow(0px 1px 2px rgba(0, 0, 0, 0.3));\n",
              "      fill: #FFFFFF;\n",
              "    }\n",
              "  </style>\n",
              "\n",
              "      <script>\n",
              "        const buttonEl =\n",
              "          document.querySelector('#df-a125847b-e5f7-43de-bae2-55fca61bf1c4 button.colab-df-convert');\n",
              "        buttonEl.style.display =\n",
              "          google.colab.kernel.accessAllowed ? 'block' : 'none';\n",
              "\n",
              "        async function convertToInteractive(key) {\n",
              "          const element = document.querySelector('#df-a125847b-e5f7-43de-bae2-55fca61bf1c4');\n",
              "          const dataTable =\n",
              "            await google.colab.kernel.invokeFunction('convertToInteractive',\n",
              "                                                     [key], {});\n",
              "          if (!dataTable) return;\n",
              "\n",
              "          const docLinkHtml = 'Like what you see? Visit the ' +\n",
              "            '<a target=\"_blank\" href=https://colab.research.google.com/notebooks/data_table.ipynb>data table notebook</a>'\n",
              "            + ' to learn more about interactive tables.';\n",
              "          element.innerHTML = '';\n",
              "          dataTable['output_type'] = 'display_data';\n",
              "          await google.colab.output.renderOutput(dataTable, element);\n",
              "          const docLink = document.createElement('div');\n",
              "          docLink.innerHTML = docLinkHtml;\n",
              "          element.appendChild(docLink);\n",
              "        }\n",
              "      </script>\n",
              "    </div>\n",
              "  </div>\n",
              "  "
            ]
          },
          "metadata": {},
          "execution_count": 4
        }
      ]
    },
    {
      "cell_type": "code",
      "source": [
        "def explore_data(df):\n",
        "    print(f\"The data contains {df.shape[0]} rows and {df.shape[1]} columns.\")\n",
        "    print('\\n')\n",
        "    print('Dataset columns:',df.columns)\n",
        "    print('\\n')\n",
        "    print(df.info())\n",
        "\n",
        "explore_data(df)"
      ],
      "metadata": {
        "id": "9cnx1So3otzI",
        "colab": {
          "base_uri": "https://localhost:8080/"
        },
        "outputId": "3bcd5302-4f80-4262-b99f-35ed732cea4b"
      },
      "execution_count": null,
      "outputs": [
        {
          "output_type": "stream",
          "name": "stdout",
          "text": [
            "The data contains 6661 rows and 13 columns.\n",
            "\n",
            "\n",
            "Dataset columns: Index(['audio_clipping', 'audio_clipping:confidence',\n",
            "       'background_noise_audible', 'background_noise_audible:confidence',\n",
            "       'overall_quality_of_the_audio', 'quiet_speaker',\n",
            "       'quiet_speaker:confidence', 'speaker_id', 'file_download', 'file_name',\n",
            "       'phrase', 'prompt', 'writer_id'],\n",
            "      dtype='object')\n",
            "\n",
            "\n",
            "<class 'pandas.core.frame.DataFrame'>\n",
            "RangeIndex: 6661 entries, 0 to 6660\n",
            "Data columns (total 13 columns):\n",
            " #   Column                               Non-Null Count  Dtype  \n",
            "---  ------                               --------------  -----  \n",
            " 0   audio_clipping                       6661 non-null   object \n",
            " 1   audio_clipping:confidence            6661 non-null   float64\n",
            " 2   background_noise_audible             6661 non-null   object \n",
            " 3   background_noise_audible:confidence  6661 non-null   float64\n",
            " 4   overall_quality_of_the_audio         6661 non-null   float64\n",
            " 5   quiet_speaker                        6661 non-null   object \n",
            " 6   quiet_speaker:confidence             6661 non-null   float64\n",
            " 7   speaker_id                           6661 non-null   int64  \n",
            " 8   file_download                        6661 non-null   object \n",
            " 9   file_name                            6661 non-null   object \n",
            " 10  phrase                               6661 non-null   object \n",
            " 11  prompt                               6661 non-null   object \n",
            " 12  writer_id                            6661 non-null   int64  \n",
            "dtypes: float64(4), int64(2), object(7)\n",
            "memory usage: 676.6+ KB\n",
            "None\n"
          ]
        }
      ]
    },
    {
      "cell_type": "code",
      "source": [
        "df.isna().sum()\n"
      ],
      "metadata": {
        "id": "ZTYxNYY7ot94",
        "colab": {
          "base_uri": "https://localhost:8080/"
        },
        "outputId": "0e62a86d-2ddb-4114-f6d4-5bd07c960138"
      },
      "execution_count": null,
      "outputs": [
        {
          "output_type": "execute_result",
          "data": {
            "text/plain": [
              "audio_clipping                         0\n",
              "audio_clipping:confidence              0\n",
              "background_noise_audible               0\n",
              "background_noise_audible:confidence    0\n",
              "overall_quality_of_the_audio           0\n",
              "quiet_speaker                          0\n",
              "quiet_speaker:confidence               0\n",
              "speaker_id                             0\n",
              "file_download                          0\n",
              "file_name                              0\n",
              "phrase                                 0\n",
              "prompt                                 0\n",
              "writer_id                              0\n",
              "dtype: int64"
            ]
          },
          "metadata": {},
          "execution_count": 6
        }
      ]
    },
    {
      "cell_type": "code",
      "source": [
        "def checking_removing_duplicates(df):\n",
        "    count_dups = df.duplicated().sum()\n",
        "    if count_dups >= 1:\n",
        "        df.drop_duplicates(inplace=True)\n",
        "        print(\"Number of Duplicates: \", count_dups)\n",
        "        print('Duplicate values removed!')\n",
        "    else:\n",
        "        print('No Duplicate values')\n",
        "checking_removing_duplicates(df)"
      ],
      "metadata": {
        "id": "1TdXz78DouCq",
        "colab": {
          "base_uri": "https://localhost:8080/"
        },
        "outputId": "35c93fd8-c5c6-4c31-e232-23dd061b0220"
      },
      "execution_count": null,
      "outputs": [
        {
          "output_type": "stream",
          "name": "stdout",
          "text": [
            "No Duplicate values\n"
          ]
        }
      ]
    },
    {
      "cell_type": "code",
      "source": [
        "df_text = df[['phrase', 'prompt']]\n",
        "df_text"
      ],
      "metadata": {
        "colab": {
          "base_uri": "https://localhost:8080/",
          "height": 424
        },
        "id": "b5t3UtLIq-UA",
        "outputId": "81c404db-7858-4156-bc5b-546e7e702c92"
      },
      "execution_count": null,
      "outputs": [
        {
          "output_type": "execute_result",
          "data": {
            "text/plain": [
              "                                                 phrase            prompt\n",
              "0                       When I remember her I feel down    Emotional pain\n",
              "1     When I carry heavy things I feel like breaking...  Hair falling out\n",
              "2             there is too much pain when i move my arm       Heart hurts\n",
              "3     My son had his lip pierced and it is swollen a...    Infected wound\n",
              "4                My muscles in my lower back are aching    Infected wound\n",
              "...                                                 ...               ...\n",
              "6656  I feel a burning sensation in my guts about 2 ...      Stomach ache\n",
              "6657     I have a split on my thumb that will not heal.        Open wound\n",
              "6658                I feel a lot of pain in the joints.        Joint pain\n",
              "6659        The area around my heart doesn't feel good.       Heart hurts\n",
              "6660                  I complain alot with skin allergy        Skin issue\n",
              "\n",
              "[6661 rows x 2 columns]"
            ],
            "text/html": [
              "\n",
              "  <div id=\"df-e3221909-2f22-43aa-ad3b-561859bc2fe1\">\n",
              "    <div class=\"colab-df-container\">\n",
              "      <div>\n",
              "<style scoped>\n",
              "    .dataframe tbody tr th:only-of-type {\n",
              "        vertical-align: middle;\n",
              "    }\n",
              "\n",
              "    .dataframe tbody tr th {\n",
              "        vertical-align: top;\n",
              "    }\n",
              "\n",
              "    .dataframe thead th {\n",
              "        text-align: right;\n",
              "    }\n",
              "</style>\n",
              "<table border=\"1\" class=\"dataframe\">\n",
              "  <thead>\n",
              "    <tr style=\"text-align: right;\">\n",
              "      <th></th>\n",
              "      <th>phrase</th>\n",
              "      <th>prompt</th>\n",
              "    </tr>\n",
              "  </thead>\n",
              "  <tbody>\n",
              "    <tr>\n",
              "      <th>0</th>\n",
              "      <td>When I remember her I feel down</td>\n",
              "      <td>Emotional pain</td>\n",
              "    </tr>\n",
              "    <tr>\n",
              "      <th>1</th>\n",
              "      <td>When I carry heavy things I feel like breaking...</td>\n",
              "      <td>Hair falling out</td>\n",
              "    </tr>\n",
              "    <tr>\n",
              "      <th>2</th>\n",
              "      <td>there is too much pain when i move my arm</td>\n",
              "      <td>Heart hurts</td>\n",
              "    </tr>\n",
              "    <tr>\n",
              "      <th>3</th>\n",
              "      <td>My son had his lip pierced and it is swollen a...</td>\n",
              "      <td>Infected wound</td>\n",
              "    </tr>\n",
              "    <tr>\n",
              "      <th>4</th>\n",
              "      <td>My muscles in my lower back are aching</td>\n",
              "      <td>Infected wound</td>\n",
              "    </tr>\n",
              "    <tr>\n",
              "      <th>...</th>\n",
              "      <td>...</td>\n",
              "      <td>...</td>\n",
              "    </tr>\n",
              "    <tr>\n",
              "      <th>6656</th>\n",
              "      <td>I feel a burning sensation in my guts about 2 ...</td>\n",
              "      <td>Stomach ache</td>\n",
              "    </tr>\n",
              "    <tr>\n",
              "      <th>6657</th>\n",
              "      <td>I have a split on my thumb that will not heal.</td>\n",
              "      <td>Open wound</td>\n",
              "    </tr>\n",
              "    <tr>\n",
              "      <th>6658</th>\n",
              "      <td>I feel a lot of pain in the joints.</td>\n",
              "      <td>Joint pain</td>\n",
              "    </tr>\n",
              "    <tr>\n",
              "      <th>6659</th>\n",
              "      <td>The area around my heart doesn't feel good.</td>\n",
              "      <td>Heart hurts</td>\n",
              "    </tr>\n",
              "    <tr>\n",
              "      <th>6660</th>\n",
              "      <td>I complain alot with skin allergy</td>\n",
              "      <td>Skin issue</td>\n",
              "    </tr>\n",
              "  </tbody>\n",
              "</table>\n",
              "<p>6661 rows × 2 columns</p>\n",
              "</div>\n",
              "      <button class=\"colab-df-convert\" onclick=\"convertToInteractive('df-e3221909-2f22-43aa-ad3b-561859bc2fe1')\"\n",
              "              title=\"Convert this dataframe to an interactive table.\"\n",
              "              style=\"display:none;\">\n",
              "        \n",
              "  <svg xmlns=\"http://www.w3.org/2000/svg\" height=\"24px\"viewBox=\"0 0 24 24\"\n",
              "       width=\"24px\">\n",
              "    <path d=\"M0 0h24v24H0V0z\" fill=\"none\"/>\n",
              "    <path d=\"M18.56 5.44l.94 2.06.94-2.06 2.06-.94-2.06-.94-.94-2.06-.94 2.06-2.06.94zm-11 1L8.5 8.5l.94-2.06 2.06-.94-2.06-.94L8.5 2.5l-.94 2.06-2.06.94zm10 10l.94 2.06.94-2.06 2.06-.94-2.06-.94-.94-2.06-.94 2.06-2.06.94z\"/><path d=\"M17.41 7.96l-1.37-1.37c-.4-.4-.92-.59-1.43-.59-.52 0-1.04.2-1.43.59L10.3 9.45l-7.72 7.72c-.78.78-.78 2.05 0 2.83L4 21.41c.39.39.9.59 1.41.59.51 0 1.02-.2 1.41-.59l7.78-7.78 2.81-2.81c.8-.78.8-2.07 0-2.86zM5.41 20L4 18.59l7.72-7.72 1.47 1.35L5.41 20z\"/>\n",
              "  </svg>\n",
              "      </button>\n",
              "      \n",
              "  <style>\n",
              "    .colab-df-container {\n",
              "      display:flex;\n",
              "      flex-wrap:wrap;\n",
              "      gap: 12px;\n",
              "    }\n",
              "\n",
              "    .colab-df-convert {\n",
              "      background-color: #E8F0FE;\n",
              "      border: none;\n",
              "      border-radius: 50%;\n",
              "      cursor: pointer;\n",
              "      display: none;\n",
              "      fill: #1967D2;\n",
              "      height: 32px;\n",
              "      padding: 0 0 0 0;\n",
              "      width: 32px;\n",
              "    }\n",
              "\n",
              "    .colab-df-convert:hover {\n",
              "      background-color: #E2EBFA;\n",
              "      box-shadow: 0px 1px 2px rgba(60, 64, 67, 0.3), 0px 1px 3px 1px rgba(60, 64, 67, 0.15);\n",
              "      fill: #174EA6;\n",
              "    }\n",
              "\n",
              "    [theme=dark] .colab-df-convert {\n",
              "      background-color: #3B4455;\n",
              "      fill: #D2E3FC;\n",
              "    }\n",
              "\n",
              "    [theme=dark] .colab-df-convert:hover {\n",
              "      background-color: #434B5C;\n",
              "      box-shadow: 0px 1px 3px 1px rgba(0, 0, 0, 0.15);\n",
              "      filter: drop-shadow(0px 1px 2px rgba(0, 0, 0, 0.3));\n",
              "      fill: #FFFFFF;\n",
              "    }\n",
              "  </style>\n",
              "\n",
              "      <script>\n",
              "        const buttonEl =\n",
              "          document.querySelector('#df-e3221909-2f22-43aa-ad3b-561859bc2fe1 button.colab-df-convert');\n",
              "        buttonEl.style.display =\n",
              "          google.colab.kernel.accessAllowed ? 'block' : 'none';\n",
              "\n",
              "        async function convertToInteractive(key) {\n",
              "          const element = document.querySelector('#df-e3221909-2f22-43aa-ad3b-561859bc2fe1');\n",
              "          const dataTable =\n",
              "            await google.colab.kernel.invokeFunction('convertToInteractive',\n",
              "                                                     [key], {});\n",
              "          if (!dataTable) return;\n",
              "\n",
              "          const docLinkHtml = 'Like what you see? Visit the ' +\n",
              "            '<a target=\"_blank\" href=https://colab.research.google.com/notebooks/data_table.ipynb>data table notebook</a>'\n",
              "            + ' to learn more about interactive tables.';\n",
              "          element.innerHTML = '';\n",
              "          dataTable['output_type'] = 'display_data';\n",
              "          await google.colab.output.renderOutput(dataTable, element);\n",
              "          const docLink = document.createElement('div');\n",
              "          docLink.innerHTML = docLinkHtml;\n",
              "          element.appendChild(docLink);\n",
              "        }\n",
              "      </script>\n",
              "    </div>\n",
              "  </div>\n",
              "  "
            ]
          },
          "metadata": {},
          "execution_count": 8
        }
      ]
    },
    {
      "cell_type": "code",
      "source": [
        "def clean_txt(docs):\n",
        "    lemmatizer = WordNetLemmatizer() \n",
        "    # split into words\n",
        "    speech_words = nltk.word_tokenize(docs)\n",
        "    # convert to lower case\n",
        "    lower_text = [w.lower() for w in speech_words]\n",
        "    # prepare regex for char filtering\n",
        "    re_punc = re.compile('[%s]' % re.escape(string.punctuation))\n",
        "    # remove punctuation from each word\n",
        "    stripped = [re_punc.sub('', w) for w in lower_text]\n",
        "    # remove remaining tokens that are not alphabetic\n",
        "    words = [word for word in stripped if word.isalpha()]\n",
        "    # filter out stop words\n",
        "    words = [w for w in words if not w in  list(STOP_WORDS)]\n",
        "    #Stemm all the words in the sentence\n",
        "    lem_words = [lemmatizer.lemmatize(word) for word in words]\n",
        "    combined_text = ' '.join(lem_words)\n",
        "    return combined_text"
      ],
      "metadata": {
        "id": "tzEV-dSxZ6mH"
      },
      "execution_count": null,
      "outputs": []
    },
    {
      "cell_type": "code",
      "source": [
        "def classification_metrics(model, y_test, y_pred):\n",
        "    print(f\"Training Accuracy Score: {model.score(X_train, y_train) * 100:.1f}%\")\n",
        "    print(f\"Validation Accuracy Score: {model.score(X_test, y_test) * 100:.1f}%\")\n",
        "    \n",
        "    conf_matrix = confusion_matrix(y_test, y_pred)\n",
        "    fig,ax = plt.subplots(figsize=(8,6))\n",
        "    sns.heatmap(pd.DataFrame(conf_matrix), annot = True, cmap = 'YlGnBu',fmt = 'g')\n",
        "    ax.xaxis.set_label_position('top')\n",
        "    plt.tight_layout()\n",
        "    plt.title('Confusion matrix for Logisitic Regression Model', fontsize=20, y=1.1)\n",
        "    plt.ylabel('Actual label', fontsize=15)\n",
        "    plt.xlabel('Predicted label', fontsize=15)\n",
        "    plt.show()\n",
        "    print(classification_report(y_test, y_pred))"
      ],
      "metadata": {
        "id": "_Sr73BTkZ6s-"
      },
      "execution_count": null,
      "outputs": []
    },
    {
      "cell_type": "code",
      "source": [
        "def save_model(model,filename):\n",
        "    pickle.dump(model, open(filename, 'wb'))"
      ],
      "metadata": {
        "id": "XJC0e4AOhUyx"
      },
      "execution_count": null,
      "outputs": []
    },
    {
      "cell_type": "code",
      "source": [
        "nltk.download('stopwords') \n",
        "nltk.download('wordnet')\n",
        "nltk.download('punkt')\n",
        "nltk.download('omw-1.4')"
      ],
      "metadata": {
        "colab": {
          "base_uri": "https://localhost:8080/"
        },
        "id": "uM0o8iI3h4mf",
        "outputId": "22fd99cc-4074-45c8-c172-3579d42c69cd"
      },
      "execution_count": null,
      "outputs": [
        {
          "output_type": "stream",
          "name": "stderr",
          "text": [
            "[nltk_data] Downloading package stopwords to /root/nltk_data...\n",
            "[nltk_data]   Unzipping corpora/stopwords.zip.\n",
            "[nltk_data] Downloading package wordnet to /root/nltk_data...\n",
            "[nltk_data] Downloading package punkt to /root/nltk_data...\n",
            "[nltk_data]   Unzipping tokenizers/punkt.zip.\n",
            "[nltk_data] Downloading package omw-1.4 to /root/nltk_data...\n"
          ]
        },
        {
          "output_type": "execute_result",
          "data": {
            "text/plain": [
              "True"
            ]
          },
          "metadata": {},
          "execution_count": 13
        }
      ]
    },
    {
      "cell_type": "code",
      "source": [
        "df_text['phrase'] = df_text['phrase'].apply(clean_txt)"
      ],
      "metadata": {
        "id": "50KxirashejL"
      },
      "execution_count": null,
      "outputs": []
    },
    {
      "cell_type": "code",
      "source": [
        "df_text['phrase']"
      ],
      "metadata": {
        "colab": {
          "base_uri": "https://localhost:8080/"
        },
        "id": "juf03qefhenJ",
        "outputId": "cbb97894-cf8c-4776-cd2d-479c706a0b45"
      },
      "execution_count": null,
      "outputs": [
        {
          "output_type": "execute_result",
          "data": {
            "text/plain": [
              "0                                           remember feel\n",
              "1                    carry heavy thing feel like breaking\n",
              "2                                                pain arm\n",
              "3       son lip pierced swollen skin inside lip grey l...\n",
              "4                                     muscle lower aching\n",
              "                              ...                        \n",
              "6656                 feel burning sensation gut hour meal\n",
              "6657                                     split thumb heal\n",
              "6658                                  feel lot pain joint\n",
              "6659                              area heart nt feel good\n",
              "6660                           complain alot skin allergy\n",
              "Name: phrase, Length: 6661, dtype: object"
            ]
          },
          "metadata": {},
          "execution_count": 15
        }
      ]
    },
    {
      "cell_type": "code",
      "source": [
        "X = df['phrase']\n",
        "y = df['prompt']\n"
      ],
      "metadata": {
        "id": "AoFNKpBCheqt"
      },
      "execution_count": null,
      "outputs": []
    },
    {
      "cell_type": "code",
      "source": [
        "X.head()"
      ],
      "metadata": {
        "colab": {
          "base_uri": "https://localhost:8080/"
        },
        "id": "d-X5ISIohexe",
        "outputId": "94ff9c25-0843-4fc5-c003-9d5ee7a8a79e"
      },
      "execution_count": null,
      "outputs": [
        {
          "output_type": "execute_result",
          "data": {
            "text/plain": [
              "0                      When I remember her I feel down\n",
              "1    When I carry heavy things I feel like breaking...\n",
              "2            there is too much pain when i move my arm\n",
              "3    My son had his lip pierced and it is swollen a...\n",
              "4               My muscles in my lower back are aching\n",
              "Name: phrase, dtype: object"
            ]
          },
          "metadata": {},
          "execution_count": 17
        }
      ]
    },
    {
      "cell_type": "code",
      "source": [
        "y.head()"
      ],
      "metadata": {
        "colab": {
          "base_uri": "https://localhost:8080/"
        },
        "id": "7KccVj2AiTGG",
        "outputId": "3eacbc22-fdcc-4f3a-9f59-a79e5542b22f"
      },
      "execution_count": null,
      "outputs": [
        {
          "output_type": "execute_result",
          "data": {
            "text/plain": [
              "0      Emotional pain\n",
              "1    Hair falling out\n",
              "2         Heart hurts\n",
              "3      Infected wound\n",
              "4      Infected wound\n",
              "Name: prompt, dtype: object"
            ]
          },
          "metadata": {},
          "execution_count": 18
        }
      ]
    },
    {
      "cell_type": "code",
      "source": [
        "vec = TfidfVectorizer()"
      ],
      "metadata": {
        "id": "DWyOhtByiVfb"
      },
      "execution_count": null,
      "outputs": []
    },
    {
      "cell_type": "code",
      "source": [
        "X = vec.fit_transform(X).toarray()"
      ],
      "metadata": {
        "id": "suZ0B6ONiVhi"
      },
      "execution_count": null,
      "outputs": []
    },
    {
      "cell_type": "code",
      "source": [
        "X[:5]"
      ],
      "metadata": {
        "colab": {
          "base_uri": "https://localhost:8080/"
        },
        "id": "iVHXJheZiVk_",
        "outputId": "4510f5a8-c0c4-4e3b-a0a8-1873dbea67b2"
      },
      "execution_count": null,
      "outputs": [
        {
          "output_type": "execute_result",
          "data": {
            "text/plain": [
              "array([[0., 0., 0., ..., 0., 0., 0.],\n",
              "       [0., 0., 0., ..., 0., 0., 0.],\n",
              "       [0., 0., 0., ..., 0., 0., 0.],\n",
              "       [0., 0., 0., ..., 0., 0., 0.],\n",
              "       [0., 0., 0., ..., 0., 0., 0.]])"
            ]
          },
          "metadata": {},
          "execution_count": 21
        }
      ]
    },
    {
      "cell_type": "code",
      "source": [
        "prompt = df_text[\"prompt\"].unique()\n",
        "prompt_dict = {value:index for index, value in enumerate(prompt)}\n",
        "results = df_text[\"prompt\"].map(prompt_dict)\n",
        "print(f'\\n{prompt_dict}\\n')"
      ],
      "metadata": {
        "colab": {
          "base_uri": "https://localhost:8080/"
        },
        "id": "GpTfffErik4P",
        "outputId": "572c7b7c-2c1a-4ecc-9256-708f187ea44f"
      },
      "execution_count": null,
      "outputs": [
        {
          "output_type": "stream",
          "name": "stdout",
          "text": [
            "\n",
            "{'Emotional pain': 0, 'Hair falling out': 1, 'Heart hurts': 2, 'Infected wound': 3, 'Foot ache': 4, 'Shoulder pain': 5, 'Injury from sports': 6, 'Skin issue': 7, 'Stomach ache': 8, 'Knee pain': 9, 'Joint pain': 10, 'Hard to breath': 11, 'Head ache': 12, 'Body feels weak': 13, 'Feeling dizzy': 14, 'Back pain': 15, 'Open wound': 16, 'Internal pain': 17, 'Blurry vision': 18, 'Acne': 19, 'Muscle pain': 20, 'Neck pain': 21, 'Cough': 22, 'Ear ache': 23, 'Feeling cold': 24}\n",
            "\n"
          ]
        }
      ]
    },
    {
      "cell_type": "code",
      "source": [
        "X_train, X_test, y_train, y_test = train_test_split(X, results, test_size=0.3, random_state=0)"
      ],
      "metadata": {
        "id": "nPpcsEHPilCt"
      },
      "execution_count": null,
      "outputs": []
    },
    {
      "cell_type": "code",
      "source": [
        "text_clf = BaggingClassifier(n_estimators=10)\n",
        "model = text_clf.fit(X_train, y_train)\n",
        "y_pred = model.predict(X_test)\n",
        "classification_metrics(model, y_test, y_pred)"
      ],
      "metadata": {
        "colab": {
          "base_uri": "https://localhost:8080/",
          "height": 1000
        },
        "id": "ULopxO48ilHs",
        "outputId": "69006f3a-8da2-42ea-8007-d582aa4c844f"
      },
      "execution_count": null,
      "outputs": [
        {
          "output_type": "stream",
          "name": "stdout",
          "text": [
            "Training Accuracy Score: 99.8%\n",
            "Validation Accuracy Score: 99.5%\n"
          ]
        },
        {
          "output_type": "display_data",
          "data": {
            "text/plain": [
              "<Figure size 576x432 with 2 Axes>"
            ],
            "image/png": "[encoded data removed]"
          },
          "metadata": {}
        },
        {
          "output_type": "stream",
          "name": "stdout",
          "text": [
            "              precision    recall  f1-score   support\n",
            "\n",
            "           0       0.99      1.00      0.99        67\n",
            "           1       0.99      0.99      0.99        83\n",
            "           2       1.00      0.99      0.99        79\n",
            "           3       1.00      0.99      0.99        99\n",
            "           4       1.00      0.99      0.99        68\n",
            "           5       1.00      0.99      0.99        87\n",
            "           6       1.00      0.99      0.99        71\n",
            "           7       0.99      1.00      0.99        86\n",
            "           8       0.96      1.00      0.98        76\n",
            "           9       1.00      1.00      1.00        92\n",
            "          10       1.00      1.00      1.00        96\n",
            "          11       1.00      1.00      1.00        70\n",
            "          12       1.00      1.00      1.00        69\n",
            "          13       1.00      0.99      0.99        77\n",
            "          14       1.00      1.00      1.00        90\n",
            "          15       0.99      1.00      0.99        74\n",
            "          16       1.00      1.00      1.00        57\n",
            "          17       1.00      0.96      0.98        80\n",
            "          18       1.00      1.00      1.00        72\n",
            "          19       1.00      1.00      1.00       107\n",
            "          20       0.98      1.00      0.99        91\n",
            "          21       1.00      1.00      1.00        72\n",
            "          22       1.00      1.00      1.00        72\n",
            "          23       1.00      1.00      1.00        86\n",
            "          24       0.99      1.00      0.99        78\n",
            "\n",
            "    accuracy                           0.99      1999\n",
            "   macro avg       1.00      0.99      0.99      1999\n",
            "weighted avg       1.00      0.99      1.00      1999\n",
            "\n"
          ]
        }
      ]
    },
    {
      "cell_type": "code",
      "source": [
        "save_model(model, 'model.pkl')\n",
        "\n",
        "save_model(vec, 'vectorizer.pkl')"
      ],
      "metadata": {
        "id": "cB1veU_rilLK"
      },
      "execution_count": null,
      "outputs": []
    },
    {
      "cell_type": "code",
      "source": [
        "def detectAilment(text):\n",
        "    pred = [text]\n",
        "\n",
        "    transform_vect =vec.transform(pred).toarray()\n",
        "    if model.predict(transform_vect) == 0:\n",
        "        print(\"Emotional pain\")\n",
        "    elif model.predict(transform_vect) == 1:\n",
        "        print(\"Hair falling out\")\n",
        "    elif model.predict(transform_vect) == 2:\n",
        "        print(\"Heart hurts\")\n",
        "    elif model.predict(transform_vect) == 3:\n",
        "        print(\"Infected wound\")\n",
        "    elif model.predict(transform_vect) == 4:\n",
        "        print(\"Foot achne\")\n",
        "    elif model.predict(transform_vect) == 5:\n",
        "        print(\"Shoulder pain\")\n",
        "    elif model.predict(transform_vect) == 6:\n",
        "        print(\"Injury from sports\")\n",
        "    elif model.predict(transform_vect) == 7:\n",
        "        print(\"Skin issue\")\n",
        "    elif model.predict(transform_vect) == 8:\n",
        "        print(\"Stomach ache\")\n",
        "    elif model.predict(transform_vect) == 9:\n",
        "        print(\"Knee pain\")\n",
        "    elif model.predict(transform_vect) == 10:\n",
        "        print(\"Joint pain\")\n",
        "    elif model.predict(transform_vect) == 11:\n",
        "        print(\"Hard to breath\")\n",
        "    elif model.predict(transform_vect) == 12:\n",
        "        print(\"Head ache\")\n",
        "    elif model.predict(transform_vect) == 13:\n",
        "        print(\"Body feels weak\")\n",
        "    elif model.predict(transform_vect) == 14:\n",
        "        print(\"Feeling Dizzy\")\n",
        "    elif model.predict(transform_vect) == 15:\n",
        "        print(\"Back pain\")\n",
        "    elif model.predict(transform_vect) == 16:\n",
        "        print(\"Open wound\")\n",
        "    elif model.predict(transform_vect) == 17:\n",
        "        print(\"Internal pain\")\n",
        "    elif model.predict(transform_vect) == 18:\n",
        "        print(\"Blurry vision\")\n",
        "    elif model.predict(transform_vect) == 19:\n",
        "        print(\"Acne\")\n",
        "    elif model.predict(transform_vect) == 20:\n",
        "        print(\"Muscle pain\")\n",
        "    elif model.predict(transform_vect) == 21:\n",
        "        print(\"Neck pain\")\n",
        "    elif model.predict(transform_vect) == 22:\n",
        "        print(\"Cough\")\n",
        "    elif model.predict(transform_vect) == 23:\n",
        "        print(\"Ear ache\")\n",
        "        \n",
        "    else:\n",
        "        print(\"Feeling cold\")\n"
      ],
      "metadata": {
        "id": "GoGWApSQjQBe"
      },
      "execution_count": null,
      "outputs": []
    },
    {
      "cell_type": "code",
      "source": [
        "for i in (0,3):\n",
        "    value = input('How are you feeling right now?:')\n",
        "    detectAilment(value)"
      ],
      "metadata": {
        "colab": {
          "base_uri": "https://localhost:8080/"
        },
        "id": "Q7n2uCcYjsXc",
        "outputId": "f0a9a51a-5b5f-4523-805f-66bb6c88a0c4"
      },
      "execution_count": null,
      "outputs": [
        {
          "output_type": "stream",
          "name": "stdout",
          "text": [
            "How are you feeling right now?:I am feeling breathless \n",
            "Stomach ache\n",
            "How are you feeling right now?:Pain in my back\n",
            "Back pain\n"
          ]
        }
      ]
    },
    {
      "cell_type": "code",
      "source": [
        "my_data=input(\"Enter the text:\")"
      ],
      "metadata": {
        "id": "bgZBpj_zkAmO",
        "colab": {
          "base_uri": "https://localhost:8080/"
        },
        "outputId": "901e0b16-638c-4d1b-d242-308547012a2b"
      },
      "execution_count": null,
      "outputs": [
        {
          "name": "stdout",
          "output_type": "stream",
          "text": [
            "Enter the text:I am going to pee frequently\n"
          ]
        }
      ]
    },
    {
      "cell_type": "code",
      "source": [
        "my_transform_vect =vec.transform([my_data]).toarray()"
      ],
      "metadata": {
        "id": "wiWx6Vk7oo9A"
      },
      "execution_count": null,
      "outputs": []
    },
    {
      "cell_type": "code",
      "source": [
        "prediction=model.predict(my_transform_vect)\n",
        "print(prediction)"
      ],
      "metadata": {
        "colab": {
          "base_uri": "https://localhost:8080/"
        },
        "id": "St7nFAX8nSC2",
        "outputId": "a73ba099-3e02-4456-8988-68b91a59553c"
      },
      "execution_count": null,
      "outputs": [
        {
          "output_type": "stream",
          "name": "stdout",
          "text": [
            "[13]\n"
          ]
        }
      ]
    },
    {
      "cell_type": "code",
      "source": [
        "detectAilment(my_data)"
      ],
      "metadata": {
        "colab": {
          "base_uri": "https://localhost:8080/"
        },
        "id": "gzYA033B_hwt",
        "outputId": "f50a5194-427d-413d-87d1-8442654e267d"
      },
      "execution_count": null,
      "outputs": [
        {
          "output_type": "stream",
          "name": "stdout",
          "text": [
            "Body feels weak\n"
          ]
        }
      ]
    }
  ],
  "metadata": {
    "colab": {
      "collapsed_sections": [],
      "provenance": []
    },
    "kernelspec": {
      "display_name": "Python 3",
      "name": "python3"
    }
  },
  "nbformat": 4,
  "nbformat_minor": 0
}